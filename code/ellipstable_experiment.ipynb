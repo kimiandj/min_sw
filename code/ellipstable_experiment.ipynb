{
 "cells": [
  {
   "cell_type": "markdown",
   "metadata": {},
   "source": [
    "# Minimum Sliced-Wasserstein Estimators for Multivariate Elliptically Contoured Stable distributions\n",
    "\n",
    "In this notebook, we consider the task of estimating the parameters of a multivariate elliptically contoured stable distribution using the minimum expected Sliced-Wasserstein estimator (MESWE). The goal is to empirically validate the consistency of MESWE (Theorem 3, [1]) and the convergence of MESWE to MSWE (Theorem 4, [1]).\n",
    "\n",
    "The target is a 10-dimensional elliptically contoured stable distribution $\\mathcal{E}\\alpha\\mathcal{S}_c(\\mathbf{I}, \\mathbf{m}_\\star)$, with $\\alpha = 1.8$ and $\\mathbf{m}_\\star \\in \\mathbb{R}^{10}$. In this experiment, each component of $\\mathbf{m}_\\star$ is 2. \n",
    "We generate $n$ i.i.d. observations from the target distribution and denote its empirical distribution by $\\hat{\\mu}_n$. The objective of MESWE is:\n",
    "\n",
    "\\begin{align}\n",
    "   \\hat{\\mathbf{m}}_{n,m} = \\text{argmin}_{\\mathbf{m}}\\ \\mathbb{E} \\big[ \\textbf{SW}_2 \\big(\\hat{\\mu}_n, \\hat{\\mu}_{\\mathbf{m}, m} \\big) \\big]\n",
    "\\end{align}\n",
    "\n",
    "where $\\hat{\\mu}_{\\mathbf{m}, m}$ denotes the empirical distribution obtained by drawing $m$ i.i.d. samples from $\\mathcal{E}\\alpha\\mathcal{S}_c(\\mathbf{I}, \\mathbf{m})$, $\\mathbf{m} \\in \\mathbb{R}^{10}$. The expectation is taken with respect to the different sets of $m$ samples that we generate.\n",
    "\n",
    "\n",
    "#### Requirements\n",
    "- Numpy\n",
    "- Scipy\n",
    "- Matplotlib\n",
    "- IPython Parallel (for parallel computing)\n",
    "\n",
    "#### Reference\n",
    "[1] Kimia Nadjahi, Alain Durmus, Umut Şimşekli, Roland Badeau. *Asymptotic Guarantees for Learning Generative Models with the Sliced-Wasserstein Distance.* arXiv, 2019."
   ]
  },
  {
   "cell_type": "code",
   "execution_count": 1,
   "metadata": {},
   "outputs": [],
   "source": [
    "import numpy as np\n",
    "import os\n",
    "from tqdm import tqdm\n",
    "from ipyparallel import Client\n",
    "from time import time\n",
    "from scipy.stats import gaussian_kde\n",
    "\n",
    "import matplotlib.pyplot as plt\n",
    "import matplotlib.cm as cm\n",
    "%matplotlib inline"
   ]
  },
  {
   "cell_type": "code",
   "execution_count": 2,
   "metadata": {},
   "outputs": [],
   "source": [
    "# Create the repository that will contain the figures\n",
    "directory = 'figures'\n",
    "if not os.path.exists(directory):\n",
    "    os.makedirs(directory)"
   ]
  },
  {
   "cell_type": "code",
   "execution_count": 3,
   "metadata": {},
   "outputs": [],
   "source": [
    "# Configuration of IPython Parallel\n",
    "rc = Client()\n",
    "dv = rc[:]"
   ]
  },
  {
   "cell_type": "code",
   "execution_count": 4,
   "metadata": {},
   "outputs": [],
   "source": [
    "# Parameters of the target multivariate elliptically contoured stable distribution\n",
    "dim = 10\n",
    "alpha_star = 1.8\n",
    "m_star = 2 * np.ones(dim)"
   ]
  },
  {
   "cell_type": "markdown",
   "metadata": {},
   "source": [
    "### Illustration of the consistency of MESWE\n",
    "\n",
    "For different values of $n$, we draw $n$ samples from the target distribution and we compute the (approximate) MESWE of order 2, using one generated dataset of size $m = n$. We repeat this experiment several times and we report for each $n$ the average mean squared error between the estimate $\\hat{\\mathbf{m}}_{n,n}$ and the data-generating parameters $\\mathbf{m}_\\star$, and its standard deviation. "
   ]
  },
  {
   "cell_type": "code",
   "execution_count": 5,
   "metadata": {},
   "outputs": [],
   "source": [
    "# This function generates 'n_samples' observations from the target and returns the MESWE of order 2, \n",
    "# where the expected SW distance is computed between the 'n_samples' observations and \n",
    "# 'n_montecarlo' generated datasets of size m = 'n_samples'.\n",
    "def compute_meswe_m_equal_n(n_samples):\n",
    "    # Imports\n",
    "    import numpy as np\n",
    "    import random\n",
    "    seed = random.randrange(1000)\n",
    "    np.random.seed(seed)\n",
    "    import sys\n",
    "    sys.path.append('code/')\n",
    "    import estimators\n",
    "    \n",
    "    # Parameters of the target multivariate elliptically contoured stable distribution\n",
    "    dim = 10\n",
    "    alpha_star = 1.8\n",
    "    \n",
    "    # Hyperparameters for the MESWE computation\n",
    "    n_projections = 1  # number of directions of projections for the SW\n",
    "    n_montecarlo = 1  # number of generated datasets\n",
    "    \n",
    "    # Sample the target\n",
    "    m_star = 2 * np.ones(dim)\n",
    "    Gamma_star = np.eye(dim)\n",
    "    scale = 2. * np.cos(np.pi * alpha_star / 4.) ** (2. / alpha_star)\n",
    "    assert ((alpha_star / 2.) != 1)\n",
    "    A = scale * estimators.generate_std_1d_alphastable(alpha=alpha_star / 2., \n",
    "                                                        beta=1., size=(n_samples, 1))\n",
    "    G = np.random.normal(size=(n_samples, dim))\n",
    "    G = np.matmul(G, Gamma_star.T)\n",
    "    X = np.sqrt(A) * G + m_star\n",
    "    \n",
    "    # Compute the MESWE of order 2 and return the parameters found\n",
    "    meswe_mean = estimators.compute_meswe(X, n_montecarlo, n_samples, n_projections, \n",
    "                                          batch_size=n_samples, distribution=\"ellipstable\", \n",
    "                                          order=2, n_iterations=20000)\n",
    "    return meswe_mean"
   ]
  },
  {
   "cell_type": "code",
   "execution_count": 6,
   "metadata": {},
   "outputs": [
    {
     "name": "stdout",
     "output_type": "stream",
     "text": [
      "Starting experiment for n=m=10 samples...\n",
      "Done in 1.9632022579511006 min. \n",
      "\n",
      "Starting experiment for n=m=50 samples...\n",
      "Done in 2.124730674425761 min. \n",
      "\n",
      "Starting experiment for n=m=100 samples...\n",
      "Done in 2.2819728295008344 min. \n",
      "\n",
      "Starting experiment for n=m=500 samples...\n",
      "Done in 3.097671548525492 min. \n",
      "\n",
      "Starting experiment for n=m=1000 samples...\n",
      "Done in 4.481852853298188 min. \n",
      "\n",
      "Starting experiment for n=m=5000 samples...\n",
      "Done in 12.876296818256378 min. \n",
      "\n",
      "Starting experiment for n=m=10000 samples...\n",
      "Done in 26.27291166782379 min. \n",
      "\n"
     ]
    }
   ],
   "source": [
    "# Initialization\n",
    "range_nm = [10, 50, 100, 500, 1000, 5000, 10000]  # different values of n (= m)\n",
    "len_range_nm = len(range_nm)\n",
    "n_exp = 100  # number of repetitions of the MESWE computation for each n (= m)\n",
    "\n",
    "meswe_mean = np.zeros((len_range_nm, n_exp, dim))\n",
    "\n",
    "# For each n (= m), we compute 'n_exp' times (in parallel) the MESWE of order 2\n",
    "for k in range(len_range_nm):\n",
    "    print(\"Starting experiment for n=m=\" + str(range_nm[k]) + \" samples...\")\n",
    "    params_list = [range_nm[k]] * n_exp\n",
    "    start = time()\n",
    "    res = dv.map_sync(compute_meswe_m_equal_n, iter(params_list))\n",
    "    stop = time()\n",
    "    # Store the estimate\n",
    "    meswe_mean[k] = np.array(res)\n",
    "    print(\"Done in \" + str((stop - start) / 60.0) + \" min. \\n\")\n",
    "\n",
    "# Compute the mean squared errors\n",
    "mse_mean = ((meswe_mean - m_star)**2).mean(axis=2)"
   ]
  },
  {
   "cell_type": "code",
   "execution_count": 7,
   "metadata": {},
   "outputs": [
    {
     "name": "stderr",
     "output_type": "stream",
     "text": [
      "/usr/lib64/python3.7/site-packages/matplotlib/font_manager.py:1241: UserWarning: findfont: Font family ['Times'] not found. Falling back to DejaVu Sans.\n",
      "  (prop.get_family(), self.defaultFamily[fontext]))\n",
      "/usr/lib64/python3.7/site-packages/matplotlib/font_manager.py:1241: UserWarning: findfont: Font family ['Times'] not found. Falling back to DejaVu Sans.\n",
      "  (prop.get_family(), self.defaultFamily[fontext]))\n"
     ]
    },
    {
     "data": {
      "image/png": "[encoded data removed]",
      "text/plain": [
       "<Figure size 400x500 with 1 Axes>"
      ]
     },
     "metadata": {},
     "output_type": "display_data"
    }
   ],
   "source": [
    "# Plot the average mean squared error and its standard deviation against n\n",
    "plt.rcParams.update(plt.rcParamsDefault)\n",
    "plt.style.use('bmh')\n",
    "fontsize = 12\n",
    "params = {'axes.labelsize': fontsize + 2,\n",
    "      'font.size': fontsize + 2,\n",
    "      'legend.fontsize': fontsize + 2,\n",
    "      'xtick.labelsize': fontsize,\n",
    "      'ytick.labelsize': fontsize,\n",
    "      'text.usetex': True,\n",
    "      'errorbar.capsize': 4}\n",
    "plt.rcParams.update(params)\n",
    "plt.rc('font', family='Times')\n",
    "plt.rcParams['axes.facecolor'] = 'white'\n",
    "plt.rcParams['figure.figsize'] = [4, 5]\n",
    "lw = 3\n",
    "ms = 5\n",
    "\n",
    "plt.figure(0)\n",
    "\n",
    "# Plot for the mean\n",
    "plt.subplot(2, 1, 1)\n",
    "plot_mu, = plt.semilogx(range_nm, mse_mean.mean(axis=1), 'o-', lw=lw, ms=ms)\n",
    "color = plot_mu.get_color()\n",
    "plt.fill_between(range_nm, mse_mean.mean(axis=1) - mse_mean.std(axis=1), \n",
    "                 mse_mean.mean(axis=1) + mse_mean.std(axis=1), alpha=0.2, color=color)\n",
    "plt.xlabel('number of observations $n$, $m = n$')\n",
    "plt.ylabel('$\\| \\widehat{\\mathbf{m}}_{n,m} - \\mathbf{m}_\\star \\|_2^2$')\n",
    "plt.tight_layout()\n",
    "\n",
    "# Save and show figure\n",
    "fig = plt.gcf()\n",
    "figpath = os.path.join('figures', 'ellipstable_consistency_meswe.pdf')\n",
    "fig.savefig(figpath)\n",
    "plt.show()\n",
    "plt.close()\n"
   ]
  },
  {
   "cell_type": "markdown",
   "metadata": {},
   "source": [
    "### Illustration of the convergence of MESWE to MSWE\n",
    "\n",
    "We draw $n^* = 100$ samples from the target distribution and we compute, on one hand, the MSWE of order 2, and on the other hand, the MESWE of order 2 using 'n_montecarlo' = 1 generated dataset of size $m$ for different values of $m$. Note that the MSWE cannot be computed and is therefore approximated with the MESWE obtained for $n=n^*=100$ and $m=m^*=10000$.\n",
    "\n",
    "We repeat this experiment several times and we report for each $m$ the average mean squared error between MESWE $\\hat{\\mathbf{m}}_{n^*,m}$ and MSWE $\\hat{\\mathbf{m}}_{n^*} \\approx \\hat{\\mathbf{m}}_{n^*,m^*}$, and its standard deviation. "
   ]
  },
  {
   "cell_type": "code",
   "execution_count": 8,
   "metadata": {},
   "outputs": [],
   "source": [
    "# This function computes MSWE of order 2 for 'n_samples' = 2000 observations from the target,\n",
    "# as well as MESWE of order 2, where the expected SW distance is computed between the 2000 \n",
    "# observations and 'n_montecarlo' generated datasets of size m = 'n_gen_samples'.\n",
    "def compute_meswe_m_different_n(n_gen_samples):\n",
    "    # Imports\n",
    "    import numpy as np\n",
    "    import random\n",
    "    seed = random.randrange(1000)\n",
    "    np.random.seed(seed)\n",
    "    import sys\n",
    "    sys.path.append('code/')\n",
    "    import estimators\n",
    "    \n",
    "    # Parameters of the target multivariate elliptically contoured stable distribution\n",
    "    dim = 10\n",
    "    alpha_star = 1.8\n",
    "    \n",
    "    # Hyperparameters for the MESWE computation\n",
    "    n_samples = 100  # number of samples drawn from the target\n",
    "    n_projections = 1  # number of directions of projections for the SW\n",
    "    n_montecarlo = 1  # number of generated datasets\n",
    "    \n",
    "    # Sample the target\n",
    "    m_star = 2 * np.ones(dim)\n",
    "    Gamma_star = np.eye(dim)\n",
    "    scale = 2. * np.cos(np.pi * alpha_star / 4.) ** (2. / alpha_star)\n",
    "    assert ((alpha_star / 2.) != 1)\n",
    "    A = scale * estimators.generate_std_1d_alphastable(alpha=alpha_star / 2., \n",
    "                                                        beta=1., size=(n_samples, 1))\n",
    "    G = np.random.normal(size=(n_samples, dim))\n",
    "    G = np.matmul(G, Gamma_star.T)\n",
    "    X = np.sqrt(A) * G + m_star\n",
    "    \n",
    "    # Compute the MESWE of order 2 and return the parameters found\n",
    "    meswe_mean = estimators.compute_meswe(X, n_montecarlo, n_gen_samples, n_projections, \n",
    "                                          batch_size=n_samples, distribution=\"ellipstable\", \n",
    "                                          order=2, n_iterations=20000)\n",
    "    \n",
    "    # Compute the (approximate) MSWE of order 2 and return the parameters found\n",
    "    mswe_mean = estimators.compute_meswe(X, n_montecarlo, 10000, n_projections, \n",
    "                                         batch_size=n_samples, distribution=\"ellipstable\", \n",
    "                                         order=2, n_iterations=20000)\n",
    "    return meswe_mean, mswe_mean"
   ]
  },
  {
   "cell_type": "code",
   "execution_count": 9,
   "metadata": {},
   "outputs": [
    {
     "name": "stdout",
     "output_type": "stream",
     "text": [
      "Starting experiment for m=10 samples...\n",
      "Done in 22.799164017041523 min. \n",
      "\n",
      "Starting experiment for m=50 samples...\n",
      "Done in 24.28346694310506 min. \n",
      "\n",
      "Starting experiment for m=100 samples...\n",
      "Done in 24.585299909114838 min. \n",
      "\n",
      "Starting experiment for m=500 samples...\n",
      "Done in 25.045062979062397 min. \n",
      "\n",
      "Starting experiment for m=1000 samples...\n",
      "Done in 26.694243307908376 min. \n",
      "\n",
      "Starting experiment for m=5000 samples...\n",
      "Done in 30.24609001080195 min. \n",
      "\n"
     ]
    }
   ],
   "source": [
    "# Initialization\n",
    "range_m = [10, 50, 100, 500, 1000, 5000]  # different values of m\n",
    "len_range_nm = len(range_m)  \n",
    "n_exp = 100  # number of repetitions of the MESWE computation for each m\n",
    "\n",
    "meswe_mean = np.zeros((len_range_nm, n_exp, dim))\n",
    "mswe_mean = np.zeros((len_range_nm, n_exp, dim))\n",
    "\n",
    "# For each m, we compute 'n_exp' times (in parallel) MSWE and MESWE of order 2\n",
    "for k in range(len_range_nm):\n",
    "    print(\"Starting experiment for m=\" + str(range_m[k]) + \" samples...\")\n",
    "    params_list = [range_m[k]] * n_exp\n",
    "    start = time()\n",
    "    res = dv.map_sync(compute_meswe_m_different_n, iter(params_list))\n",
    "    stop = time()\n",
    "    # Store the estimate\n",
    "    meswe_mean[k] = np.array([i[0] for i in res])\n",
    "    mswe_mean[k] = np.array([i[1] for i in res])\n",
    "    print(\"Done in \" + str((stop - start) / 60.0) + \" min. \\n\")\n",
    "\n",
    "# Compute the mean squared errors\n",
    "mse_mean = ((meswe_mean - mswe_mean)**2).mean(axis=2)"
   ]
  },
  {
   "cell_type": "code",
   "execution_count": 10,
   "metadata": {},
   "outputs": [
    {
     "data": {
      "image/png": "[encoded data removed]",
      "text/plain": [
       "<Figure size 400x500 with 1 Axes>"
      ]
     },
     "metadata": {},
     "output_type": "display_data"
    }
   ],
   "source": [
    "# Plot the average mean squared error and its standard deviation against m\n",
    "plt.rcParams.update(plt.rcParamsDefault)\n",
    "plt.style.use('bmh')\n",
    "fontsize = 12\n",
    "params = {'axes.labelsize': fontsize + 2,\n",
    "      'font.size': fontsize + 2,\n",
    "      'legend.fontsize': fontsize + 2,\n",
    "      'xtick.labelsize': fontsize,\n",
    "      'ytick.labelsize': fontsize,\n",
    "      'text.usetex': True,\n",
    "      'errorbar.capsize': 4}\n",
    "plt.rcParams.update(params)\n",
    "plt.rc('font', family='Times')\n",
    "plt.rcParams['axes.facecolor'] = 'white'\n",
    "plt.rcParams['figure.figsize'] = [4, 5]\n",
    "lw = 3\n",
    "ms = 5\n",
    "\n",
    "plt.figure(1)\n",
    "\n",
    "# Plot for the mean\n",
    "plt.subplot(2, 1, 1)\n",
    "plot_mu, = plt.semilogx(range_m, mse_mean.mean(axis=1), 'o-', lw=lw, ms=ms)\n",
    "color = plot_mu.get_color()\n",
    "plt.fill_between(range_m, mse_mean.mean(axis=1) - mse_mean.std(axis=1), \n",
    "                 mse_mean.mean(axis=1) + mse_mean.std(axis=1), alpha=0.2, color=color)\n",
    "plt.xlabel('number of generated samples $m$')\n",
    "plt.ylabel('$\\| \\widehat{\\mathbf{m}}_{n^*,m} - \\widehat{\\mathbf{m}}_{n^*} \\|_2^2$')\n",
    "plt.tight_layout()\n",
    "\n",
    "# Save and show figure\n",
    "fig = plt.gcf()\n",
    "figpath = os.path.join('figures', 'ellipstable_convergence_meswe_to_mswe.pdf')\n",
    "fig.savefig(figpath)\n",
    "plt.show()\n",
    "plt.close()\n"
   ]
  },
  {
   "cell_type": "code",
   "execution_count": null,
   "metadata": {},
   "outputs": [],
   "source": []
  }
 ],
 "metadata": {
  "kernelspec": {
   "display_name": "Python 3",
   "language": "python",
   "name": "python3"
  },
  "language_info": {
   "codemirror_mode": {
    "name": "ipython",
    "version": 3
   },
   "file_extension": ".py",
   "mimetype": "text/x-python",
   "name": "python",
   "nbconvert_exporter": "python",
   "pygments_lexer": "ipython3",
   "version": "3.7.6"
  }
 },
 "nbformat": 4,
 "nbformat_minor": 2
}
